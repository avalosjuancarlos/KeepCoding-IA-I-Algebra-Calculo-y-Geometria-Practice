{
 "cells": [
  {
   "cell_type": "markdown",
   "id": "f2ac4dcd",
   "metadata": {},
   "source": [
    "<img src=\"images/keepcoding.png\" width=200 align=\"left\">"
   ]
  },
  {
   "cell_type": "markdown",
   "id": "9b439de7",
   "metadata": {},
   "source": [
    "# Módulo de álgebra: práctica\n",
    "\n",
    "Vamos a poner de nuevo en práctica lo que hemos visto en este módulo. La práctica consta de cuatro bloques, y podéis preguntarme las dudas que tengáis por Discord. ¡Mucha suerte!\n",
    "\n",
    "<img src=\"./images/luck.gif\" alt=\"Drawing\" style=\"width: 300px;\"/>"
   ]
  },
  {
   "cell_type": "markdown",
   "id": "68b135d8",
   "metadata": {},
   "source": [
    "## 1. Powersets\n",
    "\n",
    "El [powerset](https://en.wikipedia.org/wiki/Power_set) o conjunto de partes de un conjunto es otro conjunto que contiene todos los posibles subconjuntos. Por ejemplo, en el conjunto {'perro', 'gato', 'conejo'} tendremos los siguientes subconjuntos:\n",
    "\n",
    "{} \n",
    "{'perro'}\n",
    "{'perro', 'gato'}\n",
    "{'perro', 'gato', 'conejo'}\n",
    "{'perro', 'conejo'}\n",
    "{'gato'}\n",
    "{'gato', 'conejo'}\n",
    "{'conejo'}\n",
    "\n",
    "El conjunto vacío y el conjunto inicial forman siempre parte del powerset de un conjunto C. El cardinal del powerset es $2^n$, siendo n el número de elementos del conjunto.\n",
    "\n",
    "Vamos a implementar el powerset con Python.\n",
    "\n",
    "### 1.1 Implementación iterativa\n",
    "\n",
    "Implementa una función para obtener el powerset de un conjunto dado de forma iterativa. También se puede hacer de forma recursiva, porque el powerset de {1, 2, 3} contiene al de {1, 2}."
   ]
  },
  {
   "cell_type": "code",
   "execution_count": 1,
   "id": "c8e6f482",
   "metadata": {},
   "outputs": [],
   "source": [
    "# FORMA ITERATIVA utilizando CARDINALIDAD\n",
    "def powerset(A):\n",
    "\n",
    "    elements = list(A)\n",
    "    cardinal = 2**len(elements)\n",
    "    \n",
    "    pS =set([])\n",
    " \n",
    "    for counter in range(0, cardinal):\n",
    "        results = []\n",
    "        for j in range(0, len(elements)):\n",
    "            #print(f'counter {counter:04b} - j {j} - (1 << j) {1 << j:04b} - bit operation {counter & (1 << j)}')\n",
    "            \n",
    "            # take the element if on bit position j it says to take it (i.e. 1 appears)\n",
    "            if((counter & (1 << j)) > 0):\n",
    "                results.append(elements[j])\n",
    "        \n",
    "        pS.add(frozenset(results))\n",
    "            \n",
    "    return list(map(set,pS))"
   ]
  },
  {
   "cell_type": "code",
   "execution_count": 2,
   "id": "219e93c4",
   "metadata": {},
   "outputs": [
    {
     "name": "stdout",
     "output_type": "stream",
     "text": [
      "[set()]\n",
      "[{2}, {2, 3}, {1, 2}, {1, 2, 3}, {3}, {1}, set(), {1, 3}]\n",
      "[{'bici', 'avion'}, {'coche', 'avion'}, {'bici', 'coche', 'moto', 'avion'}, {'bici', 'moto'}, {'coche', 'moto'}, {'moto'}, {'moto', 'avion'}, {'bici', 'coche'}, {'avion'}, {'bici'}, {'bici', 'moto', 'avion'}, {'coche', 'moto', 'avion'}, {'coche'}, set(), {'bici', 'coche', 'avion'}, {'bici', 'coche', 'moto'}]\n"
     ]
    }
   ],
   "source": [
    "print(powerset(set()))\n",
    "print(powerset({1,2,3}))\n",
    "print(powerset({'coche','bici','avion', 'moto'}))"
   ]
  },
  {
   "cell_type": "code",
   "execution_count": 3,
   "id": "15423001",
   "metadata": {},
   "outputs": [],
   "source": [
    "# FORMA RECURSIVA\n",
    "def powerset_recursive(A):\n",
    "\n",
    "    elems = list(A)\n",
    "    \n",
    "    yield [] # first return the result we’re sure about \n",
    "    for i in range(len(elems)):\n",
    "        for x in powerset_recursive(elems[i+1:]): \n",
    "            # induction part \n",
    "            yield [elems[i]] + x"
   ]
  },
  {
   "cell_type": "code",
   "execution_count": 4,
   "id": "3fe2124d",
   "metadata": {},
   "outputs": [
    {
     "name": "stdout",
     "output_type": "stream",
     "text": [
      "[set()]\n",
      "[set(), {1}, {1, 2}, {1, 2, 3}, {1, 3}, {2}, {2, 3}, {3}]\n",
      "[set(), {'bici'}, {'bici', 'coche'}, {'bici', 'coche', 'moto'}, {'bici', 'coche', 'moto', 'avion'}, {'bici', 'coche', 'avion'}, {'bici', 'moto'}, {'bici', 'moto', 'avion'}, {'bici', 'avion'}, {'coche'}, {'coche', 'moto'}, {'coche', 'moto', 'avion'}, {'coche', 'avion'}, {'moto'}, {'moto', 'avion'}, {'avion'}]\n"
     ]
    }
   ],
   "source": [
    "print(list(map(set,powerset_recursive(set()))))\n",
    "print(list(map(set,powerset_recursive({1,2,3}))))\n",
    "print(list(map(set,powerset_recursive({'coche','bici','avion', 'moto'}))))"
   ]
  },
  {
   "cell_type": "markdown",
   "id": "744b6b94",
   "metadata": {},
   "source": [
    "### 1.2 OPCIONAL Implementación usando itertools\n",
    "\n",
    "Implementa una función para obtener el powerset de un conjunto dado usando la librería `itertools`. En este caso, podemos dejar el resultado como tuplas, en lugar de sets.\n",
    "\n",
    "https://docs.python.org/3/library/itertools.html"
   ]
  },
  {
   "cell_type": "code",
   "execution_count": 5,
   "id": "225f310b",
   "metadata": {},
   "outputs": [],
   "source": [
    "import itertools as it\n",
    "\n",
    "def powerset_it(A):\n",
    "    s = list(A)\n",
    "    return it.chain.from_iterable(it.combinations(s, r) for r in range(len(s)+1))"
   ]
  },
  {
   "cell_type": "code",
   "execution_count": 6,
   "id": "cb0b1762",
   "metadata": {},
   "outputs": [
    {
     "name": "stdout",
     "output_type": "stream",
     "text": [
      "[set()]\n",
      "[set(), {1}, {2}, {3}, {1, 2}, {1, 3}, {2, 3}, {1, 2, 3}]\n",
      "[set(), {'bici'}, {'coche'}, {'moto'}, {'avion'}, {'bici', 'coche'}, {'bici', 'moto'}, {'bici', 'avion'}, {'coche', 'moto'}, {'coche', 'avion'}, {'moto', 'avion'}, {'bici', 'coche', 'moto'}, {'bici', 'coche', 'avion'}, {'bici', 'moto', 'avion'}, {'coche', 'moto', 'avion'}, {'bici', 'coche', 'moto', 'avion'}]\n"
     ]
    }
   ],
   "source": [
    "print(list(map(set,powerset_it(set()))))\n",
    "print(list(map(set,powerset_it({1,2,3}))))\n",
    "print(list(map(set,powerset_it({'coche','bici','avion', 'moto'}))))"
   ]
  },
  {
   "cell_type": "markdown",
   "id": "306a7fee",
   "metadata": {},
   "source": [
    "## 2. SVD para comprimir una imagen\n",
    "\n",
    "El algoritmo de Singular Value Decomposition, del que ya hemos hablado en el módulo, nos puede servir para comprimir una imagen. Vamos a implementar varias funciones para esto. Como repaso, el algoritmo nos devuelve la descomposición de una matriz en tres matrices, una de ellas con los elementos principales y las otras dos con los vectores principales.\n",
    "\n",
    "Usaremos:\n",
    "\n",
    "- Una imagen de `scipy.misc`\n",
    "- La implementación del algoritmo en `np.linalg`\n",
    "- El error SEE (sum of squared estimate of errors)\n",
    "\n",
    "\n",
    "Definición:\n",
    "\n",
    "$$SSE =  \\sum_{i=1}^{n}  (x_{i} -  \\widehat{x}_i ) ^2 $$\n",
    "\n",
    "Donde:\n",
    "\n",
    "- $x_i$ son los valores de la matriz original X\n",
    "- $\\widehat{x}_i$ son los valores de la matriz reconstruida $\\widehat{X}$"
   ]
  },
  {
   "cell_type": "markdown",
   "id": "c4b0aab1",
   "metadata": {},
   "source": [
    "Lo primero, vemos la imagen que vamos a comprimir:"
   ]
  },
  {
   "cell_type": "code",
   "execution_count": null,
   "id": "ba6bd947",
   "metadata": {},
   "outputs": [],
   "source": [
    "import matplotlib.pyplot as plt\n",
    "from scipy import misc\n",
    "%matplotlib inline\n",
    "\n",
    "# Load image\n",
    "A = misc.face(gray=True)\n",
    "\n",
    "plt.imshow(A, cmap=plt.cm.gray)"
   ]
  },
  {
   "cell_type": "markdown",
   "id": "2678b3f4",
   "metadata": {},
   "source": [
    "Las siguientes funciones te ayudarán a llegar a la solución final:"
   ]
  },
  {
   "cell_type": "markdown",
   "id": "555cb8c5",
   "metadata": {},
   "source": [
    "### 2.1 Implementa la función para el SEE\n",
    "La función debe tener como entrada las dos matrices y como salida un número que será el error cometido."
   ]
  },
  {
   "cell_type": "code",
   "execution_count": null,
   "id": "3a465f69",
   "metadata": {},
   "outputs": [],
   "source": [
    "import numpy as np\n",
    "\n",
    "def sse_score(X, X_hat):\n",
    "    # TODO Define la función\n",
    "     \n",
    "\n",
    "X = np.array([[1, 2], [3, 4]])\n",
    "X_hat = np.array([[1.01, 1.75], [2.81, 3.99]])\n",
    "sse = sse_score(X, X_hat)  \n",
    "print(sse)"
   ]
  },
  {
   "cell_type": "markdown",
   "id": "a70a7d54",
   "metadata": {},
   "source": [
    "### 2.2 Implementa una función para ejecutar SVD\n",
    "La función debe tener como entrada una matriz y como salida las tres matrices de la descomposición."
   ]
  },
  {
   "cell_type": "code",
   "execution_count": null,
   "id": "1e374623",
   "metadata": {},
   "outputs": [],
   "source": [
    "def svm(X):\n",
    "    # TODO Define la función\n",
    "    \n",
    "\n",
    "X = np.array([[1, 2], [3, 4]])\n",
    "U, S, Vt = svm(X)  \n",
    "print(U)\n",
    "print(S)\n",
    "print(Vt)"
   ]
  },
  {
   "cell_type": "markdown",
   "id": "02208f52",
   "metadata": {},
   "source": [
    "### 2.3 Implementa una función para reconstruir la imagen\n",
    "\n",
    "Esta función deberá reconstruir la imagen a partir de un set de matrizes (U, S, Vt) dado."
   ]
  },
  {
   "cell_type": "code",
   "execution_count": null,
   "id": "1e7d29ca",
   "metadata": {},
   "outputs": [],
   "source": [
    "def reconstruction(U, S, Vt):\n",
    "    # TODO Define la función\n",
    "    \n",
    "\n",
    "U = np.array([[-0.40455358, -0.9145143 ],\n",
    "              [-0.9145143 ,  0.40455358]])\n",
    "S = np.array([[5.4649857 , 0.        ],\n",
    "              [0.        , 0.36596619]])\n",
    "Vt = np.array([[-0.57604844, -0.81741556],\n",
    "               [ 0.81741556, -0.57604844]])\n",
    "X_hat = reconstruction(U, S, Vt)\n",
    "X_hat"
   ]
  },
  {
   "cell_type": "markdown",
   "id": "c68906e5",
   "metadata": {},
   "source": [
    "En este punto, ya puedes ver cuál es el error cometido si se reconstruye la matriz inicial directamente después de aplicar SVD."
   ]
  },
  {
   "cell_type": "code",
   "execution_count": null,
   "id": "ec75af9f",
   "metadata": {},
   "outputs": [],
   "source": [
    "sse = sse_score(X, X_hat)\n",
    "print(f\"El error de reconstrucción es: {sse}\")"
   ]
  },
  {
   "cell_type": "markdown",
   "id": "eda26a54",
   "metadata": {},
   "source": [
    "### 2.4 Implementa la compresión\n",
    "\n",
    "Esta es la parte más complicada. A la función le tendremos que pasar la imagen, en forma matricial, y el número de componentes que queremos usar para la compresión.\n",
    "\n",
    "La función aplicará SVD y reconstruirá la matriz usando solo los n_comp primeros valores propios de la descomposición. "
   ]
  },
  {
   "cell_type": "code",
   "execution_count": null,
   "id": "566883cf",
   "metadata": {},
   "outputs": [],
   "source": [
    "### TODO: Función que recibe una imagen A y devuelve la imagen comprimida\n",
    "### Tiene como entrada A y el número de componentes para realizar la reducción de dimensionalidad\n",
    "### Devuelve la imagen comprimidad y el error de reconstrucción\n",
    "\n",
    "### Hint: Usa las funciones anteriormente construidas\n",
    "### TU RESPUESTA ABAJO\n",
    "\n",
    "\n",
    "def image_compression(A, n_comp):\n",
    "    # TODO 1: Aplicar SVD\n",
    "    \n",
    "    \n",
    "    # TODO 2: Reconstruir usando solo el número de componentes n_comp\n",
    "    \n",
    "    \n",
    "    # TODO 3: Calcular el error\n",
    "    \n",
    "\n",
    "    return A_hat, sse\n",
    "\n",
    "racoon = misc.face(gray=True)\n",
    "racoon_hat, sse = image_compression(racoon, n_comp=50)"
   ]
  },
  {
   "cell_type": "markdown",
   "id": "c85a68b6",
   "metadata": {},
   "source": [
    "### 2.5 Gráficas del resultado\n",
    "\n",
    "Por último, se pide que pruebes para varios valores del número de componentes y grafiques la imagen original junto con varias compresiones. Puedes usar un grid 2x2 de `matplotlib`."
   ]
  },
  {
   "cell_type": "code",
   "execution_count": null,
   "id": "b9aee26b",
   "metadata": {},
   "outputs": [],
   "source": [
    "# TODO Dibuja las graficas\n"
   ]
  },
  {
   "cell_type": "markdown",
   "id": "3d586f09",
   "metadata": {},
   "source": [
    "## 3. Regresión lineal con mínimos cuadrados\n",
    "\n",
    "En este ejercicio vamos a implementar la forma matricial de la regresión lineal con el método de los mínimos cuadrados. Para ello, tendrás que:\n",
    "\n",
    "- Explorar un dataset\n",
    "- Implementar la regresión lineal\n",
    "- Aplicarla a los datos\n",
    "\n",
    "Como recordatorio, los valores de los pesos $\\widehat{w}$ vienen dados por:\n",
    "\n",
    "<center>$\\widehat{w} = (X^T X)^{-1}X^T y,$</center>\n",
    "\n",
    "Donde y es la variable a predecir y X la matriz de features (NOTA: revisa cómo se define en los apuntes). Sabemos que los pesos van a ser los parámetros de la ecuación lineal que estamos intentando ajustar y tendremos uno por cada variable de entrada que usemos y además un término independiente o bias."
   ]
  },
  {
   "cell_type": "markdown",
   "id": "e574f77d",
   "metadata": {},
   "source": [
    "### 3.1 Carga del dataset y exploración de datos\n",
    "\n",
    "Vamos a usar el dataset de [Auto MPG](https://archive.ics.uci.edu/dataset/9/auto+mpg) que podemos encontrar en el [repositorio de Machine learning de UC Irvine](https://archive.ics.uci.edu/). Lo primero, vamos a familiarizarnos con los datos.\n",
    "\n",
    "En el propio repositorio nos indican cómo descargar el dataset con su librería (podemos consultar el código fuente si queremos)."
   ]
  },
  {
   "cell_type": "code",
   "execution_count": null,
   "id": "4b5aac08",
   "metadata": {},
   "outputs": [],
   "source": [
    "!pip install ucimlrepo"
   ]
  },
  {
   "cell_type": "code",
   "execution_count": null,
   "id": "d69d9185",
   "metadata": {},
   "outputs": [],
   "source": [
    "from ucimlrepo import fetch_ucirepo \n",
    "  \n",
    "# fetch dataset \n",
    "auto_mpg = fetch_ucirepo(id=9) \n",
    "  \n",
    "# data (as pandas dataframes) \n",
    "X = auto_mpg.data.features \n",
    "y = auto_mpg.data.targets \n",
    "  \n",
    "# metadata \n",
    "print(auto_mpg.metadata) \n",
    "  \n",
    "# variable information \n",
    "print(auto_mpg.variables) \n"
   ]
  },
  {
   "cell_type": "markdown",
   "id": "5f7f79e8",
   "metadata": {},
   "source": [
    "Con la función `head` de Pandas podemos ver las primeras filas del dataset."
   ]
  },
  {
   "cell_type": "code",
   "execution_count": null,
   "id": "242091db",
   "metadata": {},
   "outputs": [],
   "source": [
    "X.head()"
   ]
  },
  {
   "cell_type": "code",
   "execution_count": null,
   "id": "bc6bfba5",
   "metadata": {},
   "outputs": [],
   "source": [
    "y.head()"
   ]
  },
  {
   "cell_type": "markdown",
   "id": "f1937b9f",
   "metadata": {},
   "source": [
    "Crea una función a la que le pases los dataframes de features y de target y el nombre de la variable y haga la gráfica del target (consumo en galones por milla) vs la variable que le ha llegado por parámetro. Puedes ver un ejemplo de gráfica más abajo."
   ]
  },
  {
   "cell_type": "code",
   "execution_count": null,
   "id": "13197dad",
   "metadata": {},
   "outputs": [],
   "source": [
    "import matplotlib.pyplot as plt\n",
    "\n",
    "def visualiza(df, y, nombre_columna):\n",
    "    # TODO dibuja la gráfica\n",
    "    \n",
    "\n",
    "visualiza(X, y, 'horsepower')"
   ]
  },
  {
   "cell_type": "code",
   "execution_count": null,
   "id": "59db67f0",
   "metadata": {},
   "outputs": [],
   "source": [
    "visualiza(X, y, 'acceleration')"
   ]
  },
  {
   "cell_type": "code",
   "execution_count": null,
   "id": "b61b921b",
   "metadata": {},
   "outputs": [],
   "source": [
    "visualiza(X, y, 'weight')"
   ]
  },
  {
   "cell_type": "markdown",
   "id": "484ab196",
   "metadata": {},
   "source": [
    "Aunque lo ideal sería un modelo multivariante, vamos a elegir la variable `weight` y hacer una regresión lineal solo con esta variable."
   ]
  },
  {
   "cell_type": "markdown",
   "id": "58c9aff9",
   "metadata": {},
   "source": [
    "### 3.2 Implementación del modelo\n",
    "\n",
    "Lo primero, implementa una función que devuelva los valores de $\\widehat{w}$ dados X e y. Si se da el caso de que el dataset tiene más features que observaciones, queremos transponerlo antes de realizar las operaciones. Lo hacemos porque, como vimos en clase, los resultados no van a ser buenos si el número de observaciones es menor."
   ]
  },
  {
   "cell_type": "code",
   "execution_count": null,
   "id": "741a496b",
   "metadata": {},
   "outputs": [],
   "source": [
    "import numpy as np\n",
    "\n",
    "def pesos_ols(X, y):\n",
    "    # Implementa la fórmula matricial\n",
    "    \n",
    "    # TODO 1 Comprueba que las dimensiones son adecuadas y corrige si no es así\n",
    "    \n",
    "    # TODO 2 Prepara la matriz X para que tenga la forma adecuada para aplicar la fórmula \n",
    "    \n",
    "\n",
    "    # TODO 3 Calcula los pesos\n",
    "\n",
    "    return w"
   ]
  },
  {
   "cell_type": "code",
   "execution_count": null,
   "id": "20ebe4da",
   "metadata": {},
   "outputs": [],
   "source": [
    "X = np.array([[1710, 1262, 1786, 1717, 2198, 1362, 1694, 2090, 1774, 1077], \n",
    "              [2003, 1976, 2001, 1915, 2000, 1993, 2004, 1973, 1931, 1939]])\n",
    "y = np.array([208500, 181500, 223500, 140000, 250000, 143000, 307000, 200000, 129900, 118000])\n",
    "pesos_ols(X, y)"
   ]
  },
  {
   "cell_type": "markdown",
   "id": "5cb5c0f5",
   "metadata": {},
   "source": [
    "### 3.3 Prueba del modelo en los datos de consumo de coches\n",
    "\n",
    "Ya podemos usar nuestra función `pesos` en el dataset real que hemos descargado. Para ver el ajuste, dibuja de nuevo los datos junto con la recta que has obtenido, en la misma gráfica. Tendrás que convertir los dataframes de Pandas en arrays de numpy para poder aplicar las operaciones matriciales.\n",
    "\n",
    "TIP: Revisa las dimensiones de todos los arrays para ver que son correctas."
   ]
  },
  {
   "cell_type": "code",
   "execution_count": null,
   "id": "53cebe34",
   "metadata": {},
   "outputs": [],
   "source": [
    "# TODO Aplica el modelo y dibuja la recta junto con los datos\n",
    "\n"
   ]
  },
  {
   "cell_type": "markdown",
   "id": "88fcbf61",
   "metadata": {},
   "source": [
    "Por último, vamos a comprar el resultado con el que nos da `scikit-learn`para ver si nuestra implementación tiene buena pinta. Podemos ver cómo funciona en la [documentación](https://scikit-learn.org/stable/modules/generated/sklearn.linear_model.LinearRegression.html)."
   ]
  },
  {
   "cell_type": "code",
   "execution_count": null,
   "id": "3d07cb49",
   "metadata": {},
   "outputs": [],
   "source": [
    "from sklearn.linear_model import LinearRegression\n",
    "\n",
    "# Creamos el objeto\n",
    "lr = LinearRegression()\n",
    "\n",
    "# Le pasamos los datos en el formato correcto\n",
    "X = auto_mpg.data.features \n",
    "y = auto_mpg.data.targets \n",
    "\n",
    "X_lr = X[['weight']]\n",
    "y_lr = y\n",
    "\n",
    "# Entrenamos con los datos\n",
    "lr.fit(X_lr,y_lr)\n",
    "print(\"Punto de corte:\", lr.intercept_)\n",
    "print(\"Pendiente:\", lr.coef_)"
   ]
  },
  {
   "cell_type": "markdown",
   "id": "a2571861",
   "metadata": {},
   "source": [
    "**TODO**: Analiza el resultado obtenido y compáralo con el de sklearn"
   ]
  },
  {
   "cell_type": "markdown",
   "id": "77098377",
   "metadata": {},
   "source": [
    "## 4. Optimización con descenso del gradiente\n",
    "\n",
    "Vamos a resolver el mismo problema usando el descenso del gradiente en lugar de la solución analítica. El descenso del gradiente es un método de optimización iterativo que usa el operador gradiente.\n",
    "\n",
    "Como es iterativo, necesitamos decirle cuándo tiene que parar y darnos la solución. En este caso, le vamos a decir que pare y nos devuelva la solución después de un número de iteraciones que le pasaremos como parámetro. La ecuación iterativa es.\n",
    "\n",
    "$$w^{t+1} = w^t - \\eta \\cdot \\nabla f(w)$$\n",
    "\n",
    "donde f es nuestra función objetivo, y w es un vector. Para la función objetivo, vamos a usar el error RSS, que querremos minimizar.\n",
    "\n",
    "$$ RSS(w) = \\frac{1}{2}\\sum_{n=1}^{N}[y_n-f(x_n)]^2$$\n",
    "\n",
    "y cuyo gradiente es:\n",
    "\n",
    "$$\\nabla RSS(w) = X^T(Xw^t-y)$$\n",
    "\n",
    "TIP: Ten en cuenta que el RSS también lo puedes escribir como $\\frac{1}{2}\\sum_{n=1}^{N}[y_n-\\hat{y_n}]^2$ donde $\\hat{y_n} = X \\hat{w}$ en cada paso."
   ]
  },
  {
   "cell_type": "markdown",
   "id": "4aa24d2c",
   "metadata": {},
   "source": [
    "### 4.0 Compara el método de mínimos cuadrados y el descenso del gradiente para obtener los coeficientes de una regresión lineal\n",
    "\n"
   ]
  },
  {
   "cell_type": "markdown",
   "id": "3e9b06f2",
   "metadata": {},
   "source": []
  },
  {
   "cell_type": "markdown",
   "id": "446ad8dd",
   "metadata": {},
   "source": [
    "### 4.1 Implementar el descenso del gradiente\n",
    "\n",
    "Completa las siguientes funciones para implementar el descenso del gradiente con la función objetivo de la regresión lineal. La función necesitará:\n",
    "\n",
    "- La entrada X y salida y de la regresión\n",
    "- Un punto inicial desde el que empezar a iterar\n",
    "- El número de iteraciones \n",
    "- El learning rate\n",
    "\n",
    "La función nos devolverá un array con las w resultantes de las iteraciones y otro con el valor de la función en cada paso del algoritmo, a la que también se conoce como *loss function*."
   ]
  },
  {
   "cell_type": "code",
   "execution_count": null,
   "id": "a73d5785",
   "metadata": {},
   "outputs": [],
   "source": [
    "import numpy as np\n",
    "\n",
    "def gradient_descent(X, y, w0, n_iter, eta): \n",
    "    # Define la función que calcule n_iter iteraciones del descenso del gradiente\n",
    "    # Inicializamos variables\n",
    "    # Si eliges otra forma de resolverlo, puedes borrar esta parte\n",
    "    loss_iter = [np.inf]\n",
    "    w_iter = [w0]\n",
    "    w = w0\n",
    "    \n",
    "    # TODO 1 Añade la columna de 1s\n",
    "    \n",
    "    \n",
    "    # TODO 2 Haz un bucle para las iteraciones \n",
    "    # TODO 3 Dentro del bucle tendrás que actualizar el error y los pesos y añadirlos a las listas\n",
    "    \n",
    "    \n",
    "    # Devuelve los resultados\n",
    "    return np.array(w_iter), np.array(loss_iter)\n",
    "\n",
    "\n",
    "eta = 0.01 \n",
    "iteraciones = 2000 \n",
    "\n",
    "np.random.seed(123)\n",
    "w0 = np.random.rand(2).reshape((2,1))\n",
    "\n",
    "y = np.array([208500, 181500, 223500, 140000, 250000]).reshape((5,1))\n",
    "X = np.array( [[  0.37020659],\n",
    "               [  -0.48234664],\n",
    "               [  0.51483616],\n",
    "               [  0.38352774],\n",
    "               [  1.29888065]])\n",
    "\n",
    "weights, loss = gradient_descent(X, y, w0, iteraciones, eta)\n",
    "\n",
    "print(weights[-1])"
   ]
  },
  {
   "cell_type": "markdown",
   "id": "6d6e3013",
   "metadata": {},
   "source": [
    "### 4.2 Aplicar al dataset de consumo de combustible\n",
    "\n",
    "Leemos de nuevo los datos y aplicamos la función que acabamos de programar."
   ]
  },
  {
   "cell_type": "code",
   "execution_count": null,
   "id": "5b684062",
   "metadata": {},
   "outputs": [],
   "source": [
    "from ucimlrepo import fetch_ucirepo \n",
    "  \n",
    "# fetch dataset \n",
    "auto_mpg = fetch_ucirepo(id=9) \n",
    "  \n",
    "# data (as pandas dataframes) \n",
    "X = auto_mpg.data.features \n",
    "y = auto_mpg.data.targets \n",
    "  \n",
    "# convert to numpy\n",
    "X_np = X['weight'].to_numpy().reshape((X.shape[0], 1))\n",
    "y_np = y.to_numpy()\n",
    "\n",
    "print(X_np.shape)\n",
    "print(y_np.shape)"
   ]
  },
  {
   "cell_type": "markdown",
   "id": "94d27c55",
   "metadata": {},
   "source": [
    "Para ayudar al algoritmo, vamos a escalar la variable X, restando la media y dividiendo entre la desviación estándar. Después aplicamos la función anterior y dibujamos."
   ]
  },
  {
   "cell_type": "code",
   "execution_count": null,
   "id": "b5438c2a",
   "metadata": {},
   "outputs": [],
   "source": [
    "# TODO Aplica el modelo y dibuja la recta junto con los datos\n",
    "\n",
    "X = auto_mpg.data.features\n",
    "y = auto_mpg.data.targets\n",
    "\n",
    "# Escalamos la variable x \n",
    "\n",
    "X_np = X['weight'].to_numpy().reshape((X.shape[0], 1))\n",
    "y_np = y.to_numpy()\n",
    "\n",
    "X_gd=(X_np - X_np.mean()) / X_np.std()\n",
    "y_gd = y_np\n",
    "\n",
    "# TODO 1 Punto inicial y learning rate\n",
    "\n",
    "\n",
    "# TODO 2 Aplicamos el algoritmo\n",
    "\n",
    "\n",
    "# Límites de los ejes\n",
    "x_max = np.max(X_gd) + 1\n",
    "x_min = np.min(X_gd) -1\n",
    "\n",
    "\n",
    "# TODO 3 Dibuja la gráfica\n"
   ]
  }
 ],
 "metadata": {
  "kernelspec": {
   "display_name": "Python 3 (ipykernel)",
   "language": "python",
   "name": "python3"
  },
  "language_info": {
   "codemirror_mode": {
    "name": "ipython",
    "version": 3
   },
   "file_extension": ".py",
   "mimetype": "text/x-python",
   "name": "python",
   "nbconvert_exporter": "python",
   "pygments_lexer": "ipython3",
   "version": "3.10.13"
  }
 },
 "nbformat": 4,
 "nbformat_minor": 5
}
